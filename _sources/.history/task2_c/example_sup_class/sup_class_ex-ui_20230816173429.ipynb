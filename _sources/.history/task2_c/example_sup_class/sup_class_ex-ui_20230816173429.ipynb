{
 "cells": [
  {
   "cell_type": "code",
   "execution_count": 1,
   "metadata": {
    "tags": [
     "hide-input"
    ]
   },
   "outputs": [],
   "source": [
    "# This just repeats the data importation and model training from the previous section\n",
    "import pandas as pd\n",
    "import numpy as np\n",
    "from sklearn.model_selection import train_test_split\n",
    "from sklearn import svm\n",
    "\n",
    "url = \"https://raw.githubusercontent.com/jbrownlee/Datasets/master/iris.csv\"\n",
    "column_names = ['sepal-length', 'sepal-width', 'petal-length', 'petal-width', 'type']\n",
    "df = pd.read_csv(url, names = column_names) #read CSV into Python as a dataframe\n",
    "\n",
    "X = df.drop(columns=['type']) #indpendent variables\n",
    "y = df[['type']].copy() #dependent variables\n",
    "y = y['type'].values #converts y to a 1d array. \n",
    "\n",
    "X_train, X_test, y_train, y_test = train_test_split(X, y, test_size=0.333, random_state=41)\n",
    "svm_model = svm.SVC(gamma='scale', C=1) #Creates a svm model object. Mote, 'scale' and 1.0 are gamma and C's respective defaults  \n",
    "\n",
    "svm_model.fit(X_train,y_train)"
   ]
  },
  {
   "attachments": {},
   "cell_type": "markdown",
   "metadata": {},
   "source": [
    "(sup_class_ex:user_interface)=\n",
    "## User Interface\n",
    "\n",
    "We've made an application. Now we need a way for the user to apply it. There are *no specific requirements for how this must be done.* Following the [User Guide](task2d:userguide) in your documentation, the evaluator must be able to get it to work and meet the needs of the problem described in the documentation. We'll present a few options. Remember that simpler interfaces need a more detailed [User Guide](task2d:userguide). \n",
    "\n",
    "(sup_class_ex:ui:code)=\n",
    "### User inputs and runs code\n",
    "\n",
    "The user can be instructed to input and run code. If you do this, provide explicit instructions and provide an example that can be copied and pasted.\n",
    "\n",
    "> To make a prediction for varaibles x1, x2, x3 and x4, type \n",
    ">\n",
    "> `print(svm_model.predict([[x1,x2,x3,x4]]))` \n",
    ">\n",
    "> into the code cell below and press the 'Run' button in the menu. \n",
    "> Example:\n",
    ">\n",
    "> `print(svm_model.predict([[1,2,3,2]]))`"
   ]
  },
  {
   "cell_type": "code",
   "execution_count": 2,
   "metadata": {},
   "outputs": [
    {
     "name": "stdout",
     "output_type": "stream",
     "text": [
      "['Iris-setosa']\n"
     ]
    }
   ],
   "source": [
    "print(svm_model.predict([[5,4,1,.5]]))"
   ]
  },
  {
   "attachments": {},
   "cell_type": "markdown",
   "metadata": {},
   "source": [
    "```{note}\n",
    "When making predictions, the input data needs to look *exactly* like the data the model as trained with. In this example, 'svm_model' was trained with a 2d-array. Hence the need for the double brackets, `[[5,4,1,.5]]`.\n",
    "```\n",
    "\n",
    "### User inputs from Widget text boxes & buttons\n",
    "\n",
    "Using Jupyter Widgets, a more user-friendly (and less error-prone) interface can be implemented. \n",
    "<!-- TODO ADD CONDA/PIP install instructions -->\n",
    "\n",
    "```{warning}\n",
    "Running Python code requires a running Python kernel. Click the {fa}`rocket` --> {guilabel}`Live Code` button above on this page, and run the code below.\n",
    "\n",
    "🚧 This site is under construction! As of now, the Python kernel may not run on the page or have very long wait times.👷🏽‍♀️\n",
    "```\n",
    "\n",
    "Click the {fa}`rocket` --> {guilabel}`Live Code` button above on this page, and run the code below.\n",
    "\n",
    "Recall, the feature names:"
   ]
  },
  {
   "cell_type": "code",
   "execution_count": 3,
   "metadata": {
    "tags": [
     "hide-input"
    ]
   },
   "outputs": [
    {
     "data": {
      "text/html": [
       "<div>\n",
       "<style scoped>\n",
       "    .dataframe tbody tr th:only-of-type {\n",
       "        vertical-align: middle;\n",
       "    }\n",
       "\n",
       "    .dataframe tbody tr th {\n",
       "        vertical-align: top;\n",
       "    }\n",
       "\n",
       "    .dataframe thead th {\n",
       "        text-align: right;\n",
       "    }\n",
       "</style>\n",
       "<table border=\"1\" class=\"dataframe\">\n",
       "  <thead>\n",
       "    <tr style=\"text-align: right;\">\n",
       "      <th></th>\n",
       "      <th>sepal-length</th>\n",
       "      <th>sepal-width</th>\n",
       "      <th>petal-length</th>\n",
       "      <th>petal-width</th>\n",
       "      <th>type</th>\n",
       "    </tr>\n",
       "  </thead>\n",
       "  <tbody>\n",
       "    <tr>\n",
       "      <th>0</th>\n",
       "      <td>5.1</td>\n",
       "      <td>3.5</td>\n",
       "      <td>1.4</td>\n",
       "      <td>0.2</td>\n",
       "      <td>Iris-setosa</td>\n",
       "    </tr>\n",
       "    <tr>\n",
       "      <th>1</th>\n",
       "      <td>4.9</td>\n",
       "      <td>3.0</td>\n",
       "      <td>1.4</td>\n",
       "      <td>0.2</td>\n",
       "      <td>Iris-setosa</td>\n",
       "    </tr>\n",
       "    <tr>\n",
       "      <th>2</th>\n",
       "      <td>4.7</td>\n",
       "      <td>3.2</td>\n",
       "      <td>1.3</td>\n",
       "      <td>0.2</td>\n",
       "      <td>Iris-setosa</td>\n",
       "    </tr>\n",
       "    <tr>\n",
       "      <th>3</th>\n",
       "      <td>4.6</td>\n",
       "      <td>3.1</td>\n",
       "      <td>1.5</td>\n",
       "      <td>0.2</td>\n",
       "      <td>Iris-setosa</td>\n",
       "    </tr>\n",
       "    <tr>\n",
       "      <th>4</th>\n",
       "      <td>5.0</td>\n",
       "      <td>3.6</td>\n",
       "      <td>1.4</td>\n",
       "      <td>0.2</td>\n",
       "      <td>Iris-setosa</td>\n",
       "    </tr>\n",
       "  </tbody>\n",
       "</table>\n",
       "</div>"
      ],
      "text/plain": [
       "   sepal-length  sepal-width  petal-length  petal-width         type\n",
       "0           5.1          3.5           1.4          0.2  Iris-setosa\n",
       "1           4.9          3.0           1.4          0.2  Iris-setosa\n",
       "2           4.7          3.2           1.3          0.2  Iris-setosa\n",
       "3           4.6          3.1           1.5          0.2  Iris-setosa\n",
       "4           5.0          3.6           1.4          0.2  Iris-setosa"
      ]
     },
     "execution_count": 3,
     "metadata": {},
     "output_type": "execute_result"
    }
   ],
   "source": [
    "list(df.columns)\n",
    "df.head()"
   ]
  },
  {
   "cell_type": "code",
   "execution_count": null,
   "metadata": {
    "tags": [
     "thebe-init"
    ]
   },
   "outputs": [
    {
     "name": "stdout",
     "output_type": "stream",
     "text": [
      "\u001b[1mEnter values in cm and make a prediction\u001b[0m\n"
     ]
    },
    {
     "data": {
      "application/vnd.jupyter.widget-view+json": {
       "model_id": "",
       "version_major": 2,
       "version_minor": 0
      },
      "text/plain": [
       "VBox(children=(FloatText(value=0.0, description='sepal L:'), FloatText(value=0.0, description='sepal W:'), Flo…"
      ]
     },
     "metadata": {},
     "output_type": "display_data"
    }
   ],
   "source": [
    "from ipywidgets import widgets\n",
    "\n",
    "#The text boxes where the user can input values.\n",
    "sl_widget = widgets.FloatText(description='sepal L:', value='0')\n",
    "sw_widget = widgets.FloatText(description='sepal W:', value='0')\n",
    "pl_widget = widgets.FloatText(description='petal L:', value='0')\n",
    "pw_widget = widgets.FloatText(description='petal W:', value='0')\n",
    "\n",
    "#A button for the user to get predictions using input valus. \n",
    "button_predict = widgets.Button( description='Predict' )\n",
    "button_ouput = widgets.Label(value='Enter values and press the \\\"Predict\\\" button.' )\n",
    "\n",
    "#Defines what happens when you click the button \n",
    "def on_click_predict(b):\n",
    "    prediciton = svm_model.predict([[\n",
    "        sl_widget.value, sw_widget.value, pl_widget.value, pw_widget.value]])\n",
    "    button_ouput.value='Prediction = '+ str(prediciton[0])\n",
    "button_predict.on_click(on_click_predict)\n",
    "\n",
    "#Displays the text boxes and buttons inside a VBox \n",
    "vb=widgets.VBox([sl_widget, sw_widget, pl_widget, pw_widget, button_predict,button_ouput])\n",
    "print('\\033[1m' + 'Enter values in cm and make a prediction' + '\\033[0m')\n",
    "display(vb)\n",
    "\n",
    "# According to the widget docs, \n",
    "# https://ipywidgets.readthedocs.io/en/7.6.3/examples/Widget%20Styling.html\n",
    "# you cannot adjust the description length. For adjusting widget display behavior, \n",
    "# you can use a labeled HBox contained in the VBox."
   ]
  },
  {
   "attachments": {},
   "cell_type": "markdown",
   "metadata": {},
   "source": [
    "### User inputs with Widget sliders\n",
    "\n",
    "Sliders provide a user-friendly experience that can easily be modified to control input range and increments. While sliders might not be the best choice here (text entry might be easier for selecting precise values), we'll present an example as, in many cases, sliders work great. \n",
    "\n",
    "Implementation is almost identical to that of text entry. Reviewing the [data's statistics](sup_calls_ex:descriptive:describe), we set the sliders' ranges to capture approximately 95% of the flower's parameter values:\n",
    "\n",
    "$\\text{range}= \\text{mean)\\pm 2(\\text{standard deviation})$$\n",
    "\n",
    "Assuming it's normally distributed (it's close enough). Capturing 99.7% of the data using 3 standard deviations might've been better -but you get the idea. \n",
    "\n",
    "For example, \n",
    "\n",
    "```{margin} \n",
    "See [widget slider docs](https://ipywidgets.readthedocs.io/en/7.6.3/examples/Widget%20List.html#FloatSlider) for more details and options.\n",
    "```"
   ]
  },
  {
   "cell_type": "code",
   "execution_count": null,
   "metadata": {},
   "outputs": [
    {
     "data": {
      "text/html": [
       "<div>\n",
       "<style scoped>\n",
       "    .dataframe tbody tr th:only-of-type {\n",
       "        vertical-align: middle;\n",
       "    }\n",
       "\n",
       "    .dataframe tbody tr th {\n",
       "        vertical-align: top;\n",
       "    }\n",
       "\n",
       "    .dataframe thead th {\n",
       "        text-align: right;\n",
       "    }\n",
       "</style>\n",
       "<table border=\"1\" class=\"dataframe\">\n",
       "  <thead>\n",
       "    <tr style=\"text-align: right;\">\n",
       "      <th></th>\n",
       "      <th>sepal-length</th>\n",
       "      <th>sepal-width</th>\n",
       "      <th>petal-length</th>\n",
       "      <th>petal-width</th>\n",
       "    </tr>\n",
       "  </thead>\n",
       "  <tbody>\n",
       "    <tr>\n",
       "      <th>count</th>\n",
       "      <td>150.000000</td>\n",
       "      <td>150.000000</td>\n",
       "      <td>150.000000</td>\n",
       "      <td>150.000000</td>\n",
       "    </tr>\n",
       "    <tr>\n",
       "      <th>mean</th>\n",
       "      <td>5.843333</td>\n",
       "      <td>3.054000</td>\n",
       "      <td>3.758667</td>\n",
       "      <td>1.198667</td>\n",
       "    </tr>\n",
       "    <tr>\n",
       "      <th>std</th>\n",
       "      <td>0.828066</td>\n",
       "      <td>0.433594</td>\n",
       "      <td>1.764420</td>\n",
       "      <td>0.763161</td>\n",
       "    </tr>\n",
       "    <tr>\n",
       "      <th>min</th>\n",
       "      <td>4.300000</td>\n",
       "      <td>2.000000</td>\n",
       "      <td>1.000000</td>\n",
       "      <td>0.100000</td>\n",
       "    </tr>\n",
       "    <tr>\n",
       "      <th>25%</th>\n",
       "      <td>5.100000</td>\n",
       "      <td>2.800000</td>\n",
       "      <td>1.600000</td>\n",
       "      <td>0.300000</td>\n",
       "    </tr>\n",
       "    <tr>\n",
       "      <th>50%</th>\n",
       "      <td>5.800000</td>\n",
       "      <td>3.000000</td>\n",
       "      <td>4.350000</td>\n",
       "      <td>1.300000</td>\n",
       "    </tr>\n",
       "    <tr>\n",
       "      <th>75%</th>\n",
       "      <td>6.400000</td>\n",
       "      <td>3.300000</td>\n",
       "      <td>5.100000</td>\n",
       "      <td>1.800000</td>\n",
       "    </tr>\n",
       "    <tr>\n",
       "      <th>max</th>\n",
       "      <td>7.900000</td>\n",
       "      <td>4.400000</td>\n",
       "      <td>6.900000</td>\n",
       "      <td>2.500000</td>\n",
       "    </tr>\n",
       "  </tbody>\n",
       "</table>\n",
       "</div>"
      ],
      "text/plain": [
       "       sepal-length  sepal-width  petal-length  petal-width\n",
       "count    150.000000   150.000000    150.000000   150.000000\n",
       "mean       5.843333     3.054000      3.758667     1.198667\n",
       "std        0.828066     0.433594      1.764420     0.763161\n",
       "min        4.300000     2.000000      1.000000     0.100000\n",
       "25%        5.100000     2.800000      1.600000     0.300000\n",
       "50%        5.800000     3.000000      4.350000     1.300000\n",
       "75%        6.400000     3.300000      5.100000     1.800000\n",
       "max        7.900000     4.400000      6.900000     2.500000"
      ]
     },
     "execution_count": 6,
     "metadata": {},
     "output_type": "execute_result"
    }
   ],
   "source": [
    "df.describe()"
   ]
  },
  {
   "cell_type": "code",
   "execution_count": 5,
   "metadata": {},
   "outputs": [
    {
     "name": "stdout",
     "output_type": "stream",
     "text": [
      "min=-0.3276548167350155, min=2.724988150068349\n"
     ]
    }
   ],
   "source": [
    "feature = 'petal-width'\n",
    "r_max = str(df[feature].describe()['mean']+2*df[feature].describe()['std'])\n",
    "r_min = str(df[feature].describe()['mean']-2*df[feature].describe()['std'])\n",
    "\n",
    "print('min='+r_min +', min='+r_max)"
   ]
  },
  {
   "cell_type": "markdown",
   "metadata": {},
   "source": [
    "Similarly, finding ranges for each independent variable, the sliders are set up."
   ]
  },
  {
   "cell_type": "code",
   "execution_count": 7,
   "metadata": {},
   "outputs": [
    {
     "name": "stdout",
     "output_type": "stream",
     "text": [
      "\u001b[1mEnter parameter values (in cm) and make a prediction:\u001b[0m\n"
     ]
    },
    {
     "data": {
      "application/vnd.jupyter.widget-view+json": {
       "model_id": "9ce63186d99e45be8717b95ce053f37a",
       "version_major": 2,
       "version_minor": 0
      },
      "text/plain": [
       "VBox(children=(FloatSlider(value=4.19, description='sepal L:', max=7.4, min=4.19), FloatSlider(value=2.19, des…"
      ]
     },
     "metadata": {},
     "output_type": "display_data"
    }
   ],
   "source": [
    "#The sliders where the user can input values. Min and max are set by using the complete datasets' \n",
    "sl_widget = widgets.FloatSlider(description='sepal L:',min=4.19, max=7.4)\n",
    "sw_widget = widgets.FloatSlider(description='sepal W:', min=2.19, max=3.9)\n",
    "pl_widget = widgets.FloatSlider(description='petal L:', min=0.23, max=7.29)\n",
    "pw_widget = widgets.FloatSlider(description='petal W:', min=0.0, max=2.72)\n",
    "\n",
    "#A button for the user to get predictions using input valus. \n",
    "button_predict = widgets.Button( description='Predict' )\n",
    "button_ouput = widgets.Label(value='Enter values and press the \\\"Predict\\\" button.' )\n",
    "\n",
    "#Defines what happens when you click the button \n",
    "def on_click_predict(b):\n",
    "    prediciton = svm_model.predict([[\n",
    "        sl_widget.value, sw_widget.value, pl_widget.value, pw_widget.value]])\n",
    "    button_ouput.value='Prediction = ' + str(prediciton[0])\n",
    "button_predict.on_click(on_click_predict)\n",
    "\n",
    "#Displays the text boxes and button inside a VBox \n",
    "vb=widgets.VBox([sl_widget, sw_widget, pl_widget, pw_widget, button_predict,button_ouput])\n",
    "print('\\033[1m' + 'Enter parameter values (in cm) and make a prediction:' + '\\033[0m')\n",
    "display(vb)"
   ]
  },
  {
   "attachments": {},
   "cell_type": "markdown",
   "metadata": {},
   "source": [
    "To automatically update values from a Widget, see [get the current value of a widget](https://discourse.jupyter.org/t/is-it-possible-to-get-the-current-value-of-a-widget-slider-from-a-function-without-using-multithreading/15524) and [automatically run code after altering widgets](https://stackoverflow.com/questions/54412449/ipywidgets-automatically-update-variable-and-run-code-after-altering-widget-val#:~:text=import%20ipywidgets%20as%20widgets%20class%20Updated:%20def%20__init__,(v):%20update_class.update%20(v)%20slider.observe%20(on_change,%20names='value')%20display%20(slider)).\n",
    "\n",
    "### Other Input Methods\n",
    "\n",
    "What are user interface approaches allowed? Anything the evaluator (playing the role of the client) can get to work following your instructions. Consider user-friendliness when choosing your interface. With four independent variables, four input boxes or sliders work fine. But what if your model uses 400 variables? Or say the client needed to classify not one but hundreds of flowers? In such cases, the user could be directed to copy or upload their data, say a .xlsx or .csv file, to a location the model can retrieve and analyze. Whatever method you choose, don't make things difficult for the evaluator. Provide explicit instructions, examples, or (when appropriate) example data files. "
   ]
  }
 ],
 "metadata": {
  "kernelspec": {
   "display_name": "Python 3 (ipykernel)",
   "language": "python",
   "name": "python3"
  },
  "language_info": {
   "codemirror_mode": {
    "name": "ipython",
    "version": 3
   },
   "file_extension": ".py",
   "mimetype": "text/x-python",
   "name": "python",
   "nbconvert_exporter": "python",
   "pygments_lexer": "ipython3",
   "version": "3.11.1"
  },
  "vscode": {
   "interpreter": {
    "hash": "3ff4b9f9a77e43d422b45ad0e34f66a3a995e732d437005df0ccbc0093bddc0e"
   }
  }
 },
 "nbformat": 4,
 "nbformat_minor": 4
}
