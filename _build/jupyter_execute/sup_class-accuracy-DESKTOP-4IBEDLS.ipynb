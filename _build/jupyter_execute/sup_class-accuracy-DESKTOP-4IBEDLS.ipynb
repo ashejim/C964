{
 "cells": [
  {
   "attachments": {},
   "cell_type": "markdown",
   "metadata": {},
   "source": [
    "## Accuracy Analysis (testing)\n",
    "\n",
    "The metric for measuring a classification model's accuracy is straightforward. \n",
    "\n",
    "Most libraries have builtins for this; see [sklearn metrics](https://scikit-learn.org/stable/modules/model_evaluation.html). Again, we'll keep things simple and use [the ratio of correct to total predictions](https://scikit-learn.org/stable/modules/generated/sklearn.metrics.accuracy_score.html#sklearn.metrics.accuracy_score):\n",
    "\n",
    "$$\\text{Accuracy}=\\frac{\\text{correct predictions}}{\\text{total predictions}}$$"
   ]
  },
  {
   "cell_type": "code",
   "execution_count": 1,
   "metadata": {},
   "outputs": [],
   "source": [
    "#We'll import libraries as needed, but when submitting, having them all at the top is best practice\n",
    "#Here's the minimum code needed from previous sections. \n",
    "import pandas as pd\n",
    "import numpy as np\n",
    "from sklearn.model_selection import train_test_split\n",
    "from sklearn import svm\n",
    "\n",
    "url = \"https://raw.githubusercontent.com/jbrownlee/Datasets/master/iris.csv\"\n",
    "column_names = ['sepal-length', 'sepal-width', 'petal-length', 'petal-width', 'type']\n",
    "df = pd.read_csv(url, names = column_names) #read CSV into Python as a dataframe\n",
    "\n",
    "X = df.drop(columns=['type']) #indpendent variables\n",
    "y = df[['type']].copy() #dependent variables\n",
    "X_train, X_test, y_train, y_test = train_test_split(X, y, test_size=0.333, random_state=41)\n",
    "\n",
    "svm_model = svm.SVC(gamma='scale', C=1) #Creates a svm model object. Mote, 'scale' and 1.0 are gamma and C's respective defaults  \n",
    "X_train_array, X_test_array = X_train.values, X_test.values\n",
    "y_train_array, y_test_array = y_train['type'].values, y_test['type'].values\n",
    "\n",
    "svm_model.fit(X_train_array,y_train_array)\n",
    "predictions = svm_model.predict(X_train_array)"
   ]
  },
  {
   "cell_type": "code",
   "execution_count": 2,
   "metadata": {},
   "outputs": [
    {
     "data": {
      "text/plain": [
       "0.99"
      ]
     },
     "execution_count": 2,
     "metadata": {},
     "output_type": "execute_result"
    }
   ],
   "source": [
    "from sklearn import metrics\n",
    "score = metrics.accuracy_score(y_train_array, predictions)\n",
    "score"
   ]
  },
  {
   "cell_type": "markdown",
   "metadata": {},
   "source": [
    "96% is pretty good (actually too good), but we tested the model using the *same* data used to train the model.\n",
    "> svm_model.fit(X_train,y_train_array)\n",
    "\n",
    "Testing with the training data is *not* good practice. Recall the *test* data was set aside for this purpose."
   ]
  },
  {
   "cell_type": "code",
   "execution_count": 3,
   "metadata": {},
   "outputs": [
    {
     "data": {
      "text/plain": [
       "0.94"
      ]
     },
     "execution_count": 3,
     "metadata": {},
     "output_type": "execute_result"
    }
   ],
   "source": [
    "#y_test_array = y_test['type'].values #Converts the dataframe to an array.\n",
    "#predictions using test data\n",
    "predictions_test = svm_model.predict(X_test_array)\n",
    "score2 = metrics.accuracy_score(y_test_array,predictions_test)\n",
    "score2"
   ]
  },
  {
   "attachments": {},
   "cell_type": "markdown",
   "metadata": {},
   "source": [
    "Using the test data we set aside, $94\\%$ of the predictions are correct. \n",
    "\n",
    "A *confusion matrix* further breaks down the predictions by categories, helping develop better models and providing another visualization.\n",
    "\n",
    "```{margin} Why is it called a confusion matrix?\n",
    "As it makes things less confusing, it would seem to be a misnomer. The name comes from making it easier to see whether the system is confusing two categories (i.e., commonly mislabeling one as another). Another (maybe less confusing) name is an *error matrix*.\n",
    "```"
   ]
  },
  {
   "cell_type": "code",
   "execution_count": 4,
   "metadata": {},
   "outputs": [
    {
     "data": {
      "image/png": "[encoded data removed]",
      "text/plain": [
       "<Figure size 640x480 with 2 Axes>"
      ]
     },
     "metadata": {
      "filenames": {
       "image/png": "D:\\OneDrive - Western Governors University\\jupyter-books\\C964\\_build\\jupyter_execute\\sup_class-accuracy_6_0.png"
      }
     },
     "output_type": "display_data"
    }
   ],
   "source": [
    "cm = metrics.confusion_matrix(y_test, predictions_test, labels=svm_model.classes_)\n",
    "disp = metrics.ConfusionMatrixDisplay(confusion_matrix=cm, display_labels=svm_model.classes_)\n",
    "disp.plot();"
   ]
  },
  {
   "attachments": {},
   "cell_type": "markdown",
   "metadata": {},
   "source": [
    "94%, which still seems fairly good ([but what is \"good\" accuracy?](TODO add link), but if selecting the test data randomly (try 'random_state=42'), accuracy may *improve* on the test data because the set is relatively small and the model fairly accurate. Using these results, the model can be further refined. However, continually tweaking parameters according to the test data results means we are back to studying from the answers, i.e., reintroducing the risk of overfitting. To deal with this, a *third set* can be withheld, called a “validation set,\" to analyze the final results. \n",
    "\n",
    "But Partitioning available data into three sets reduces the available data for training the model, making results more dependent on the random selection of training, testing, and validation sets. [Cross-validation](https://scikit-learn.org/stable/modules/cross_validation.html) addresses this issue by resampling the data. Again, this is optional but could be very useful, particularly for small data sets. "
   ]
  },
  {
   "cell_type": "code",
   "execution_count": 5,
   "metadata": {},
   "outputs": [
    {
     "name": "stdout",
     "output_type": "stream",
     "text": [
      "Average Score:  0.9666666666666666\n"
     ]
    }
   ],
   "source": [
    "from sklearn.model_selection import KFold, cross_val_score\n",
    "# Our 'y' is a datafram but this functions requires the indepenent variables ot be a 1d array.\n",
    "y_array = np.ravel(y.values)\n",
    "\n",
    "k_folds = KFold(n_splits = 5, shuffle=True)\n",
    "# The number of folds determines the test/train split for each iteration. \n",
    "# So 5 folds has 5 different mutually exclusive training sets. \n",
    "# That's a 1 to 4 (or .20 to .80) testing/training split for each of the 5 iterations.\n",
    "\n",
    "scores = cross_val_score(svm_model, X, y_array)\n",
    "# This shows the average score. Print 'scores' to see an array of individual iteration scores.\n",
    "print(\"Average Score: \", scores.mean())"
   ]
  },
  {
   "cell_type": "markdown",
   "metadata": {},
   "source": [
    "### More testing and development \n",
    "\n",
    "Now we can further develop the model until our heart's content. Refine the model through a cyclic process guided by knowledge and experimentation. Research, try different algorithms, and adjust. They've built the libraries for this so that the additional coding effort will be lite. These steps are optional and not required, but this is where things become more exciting and challenging. \n",
    "\n",
    "Machine learning is a mix of art and science, requiring a balance of knowledge, intuition, and lots of *experimentation*. Research, play around, tweak, and constantly re-run code. \n",
    "\n",
    "### Logistic Regression\n",
    "\n",
    "Logistic regression predicts the probability of something being in a category (hence its \"regression\" name). That probability indicates whether it's in that category, e.g., $.65 > .50 \\Rightarrow \\text{yes}$  (so it's also a classification method). We'll use [sklearn logistic regression](https://scikit-learn.org/stable/modules/generated/sklearn.linear_model.LogisticRegression.html) to do the latter.  "
   ]
  },
  {
   "cell_type": "code",
   "execution_count": 6,
   "metadata": {},
   "outputs": [],
   "source": [
    "from sklearn.linear_model import LogisticRegression\n",
    "log_model = LogisticRegression(random_state=0).fit(X_train, y_train_array)"
   ]
  },
  {
   "cell_type": "markdown",
   "metadata": {},
   "source": [
    "That's right, a new model in just two lines of code. This is typical if you stay within the same library. From here we can test, improve, and compare."
   ]
  },
  {
   "cell_type": "code",
   "execution_count": 7,
   "metadata": {},
   "outputs": [
    {
     "data": {
      "text/plain": [
       "0.92"
      ]
     },
     "execution_count": 7,
     "metadata": {},
     "output_type": "execute_result"
    }
   ],
   "source": [
    "predictions_log = log_model.predict(X_test)\n",
    "score = metrics.accuracy_score(y_test, predictions_log)\n",
    "score"
   ]
  },
  {
   "cell_type": "markdown",
   "metadata": {},
   "source": [
    "TODO \n",
    "\n",
    "### Support Vector Machine (SVM)\n",
    "\n",
    "### Decision Tree\n",
    "\n",
    "### Naive Bayes "
   ]
  }
 ],
 "metadata": {
  "kernelspec": {
   "display_name": "Python 3 (ipykernel)",
   "language": "python",
   "name": "python3"
  },
  "language_info": {
   "codemirror_mode": {
    "name": "ipython",
    "version": 3
   },
   "file_extension": ".py",
   "mimetype": "text/x-python",
   "name": "python",
   "nbconvert_exporter": "python",
   "pygments_lexer": "ipython3",
   "version": "3.11.1"
  },
  "vscode": {
   "interpreter": {
    "hash": "3ff4b9f9a77e43d422b45ad0e34f66a3a995e732d437005df0ccbc0093bddc0e"
   }
  }
 },
 "nbformat": 4,
 "nbformat_minor": 4
}