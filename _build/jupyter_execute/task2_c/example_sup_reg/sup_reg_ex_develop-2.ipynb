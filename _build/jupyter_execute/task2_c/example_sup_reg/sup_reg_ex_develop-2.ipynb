{
 "cells": [
  {
   "attachments": {},
   "cell_type": "markdown",
   "metadata": {},
   "source": [
    "(sup_reg_ex: develop-2)=\n",
    "# Regression Model Development (part 2)"
   ]
  },
  {
   "cell_type": "code",
   "execution_count": 1,
   "metadata": {
    "tags": [
     "hide-input"
    ]
   },
   "outputs": [],
   "source": [
    "#Note: we only repeat this step from before, because this is a new .ipyb page.\n",
    "#it only needs to be executed once per file.\n",
    "#We'll import libraries as needed, but when submitting, having them all at the top is the best practice\n",
    "import pandas as pd\n",
    "\n",
    "# Reloading the dataset\n",
    "url = \"https://raw.githubusercontent.com/jbrownlee/Datasets/master/iris.csv\"\n",
    "df = pd.read_csv(url) #read CSV into Python as a dataframe\n",
    "\n",
    "column_names = ['sepal-length', 'sepal-width', 'petal-length', 'petal-width', 'type']\n",
    "df = pd.read_csv(url, names = column_names) #read CSV into Python as a dataframe\n",
    "\n",
    "#Choosing sepal-length as the independent variable. \n",
    "X = df.drop(columns=['sepal-length']) #indpendent variables\n",
    "y = df[['sepal-length']].copy() #dependent variables"
   ]
  },
  {
   "attachments": {},
   "cell_type": "markdown",
   "metadata": {},
   "source": [
    "## Processing Categorical Data (the right way)\n",
    "\n",
    "In the previous section, we avoided the additional complexity of processing categorical data by simply removing it. While this sped things along, it also dropped potentially valuable insight from our analysis. Now that the code is working, we'll rebuild our models using that categorical data -the `type` feature."
   ]
  },
  {
   "cell_type": "code",
   "execution_count": 2,
   "metadata": {},
   "outputs": [
    {
     "data": {
      "text/html": [
       "<style type=\"text/css\">\n",
       "#T_62251_row0_col0, #T_62251_row0_col1, #T_62251_row0_col2, #T_62251_row0_col3, #T_62251_row1_col0, #T_62251_row1_col1, #T_62251_row1_col2, #T_62251_row1_col3, #T_62251_row2_col0, #T_62251_row2_col1, #T_62251_row2_col2, #T_62251_row2_col3, #T_62251_row3_col0, #T_62251_row3_col1, #T_62251_row3_col2, #T_62251_row3_col3, #T_62251_row4_col0, #T_62251_row4_col1, #T_62251_row4_col2, #T_62251_row4_col3, #T_62251_row5_col0, #T_62251_row5_col1, #T_62251_row5_col2, #T_62251_row5_col3, #T_62251_row6_col0, #T_62251_row6_col1, #T_62251_row6_col2, #T_62251_row6_col3, #T_62251_row7_col0, #T_62251_row7_col1, #T_62251_row7_col2, #T_62251_row7_col3, #T_62251_row8_col0, #T_62251_row8_col1, #T_62251_row8_col2, #T_62251_row8_col3, #T_62251_row9_col0, #T_62251_row9_col1, #T_62251_row9_col2, #T_62251_row9_col3 {\n",
       "  background-color: null;\n",
       "}\n",
       "#T_62251_row0_col4, #T_62251_row2_col4, #T_62251_row4_col4, #T_62251_row5_col4, #T_62251_row7_col4 {\n",
       "  background-color: lightblue;\n",
       "}\n",
       "#T_62251_row1_col4, #T_62251_row3_col4, #T_62251_row9_col4 {\n",
       "  background-color: limegreen;\n",
       "}\n",
       "#T_62251_row6_col4, #T_62251_row8_col4 {\n",
       "  background-color: orange;\n",
       "}\n",
       "</style>\n",
       "<table id=\"T_62251\">\n",
       "  <thead>\n",
       "    <tr>\n",
       "      <th class=\"blank level0\" >&nbsp;</th>\n",
       "      <th id=\"T_62251_level0_col0\" class=\"col_heading level0 col0\" >sepal-length</th>\n",
       "      <th id=\"T_62251_level0_col1\" class=\"col_heading level0 col1\" >sepal-width</th>\n",
       "      <th id=\"T_62251_level0_col2\" class=\"col_heading level0 col2\" >petal-length</th>\n",
       "      <th id=\"T_62251_level0_col3\" class=\"col_heading level0 col3\" >petal-width</th>\n",
       "      <th id=\"T_62251_level0_col4\" class=\"col_heading level0 col4\" >type</th>\n",
       "    </tr>\n",
       "  </thead>\n",
       "  <tbody>\n",
       "    <tr>\n",
       "      <th id=\"T_62251_level0_row0\" class=\"row_heading level0 row0\" >38</th>\n",
       "      <td id=\"T_62251_row0_col0\" class=\"data row0 col0\" >4.400000</td>\n",
       "      <td id=\"T_62251_row0_col1\" class=\"data row0 col1\" >3.000000</td>\n",
       "      <td id=\"T_62251_row0_col2\" class=\"data row0 col2\" >1.300000</td>\n",
       "      <td id=\"T_62251_row0_col3\" class=\"data row0 col3\" >0.200000</td>\n",
       "      <td id=\"T_62251_row0_col4\" class=\"data row0 col4\" >Iris-setosa</td>\n",
       "    </tr>\n",
       "    <tr>\n",
       "      <th id=\"T_62251_level0_row1\" class=\"row_heading level0 row1\" >115</th>\n",
       "      <td id=\"T_62251_row1_col0\" class=\"data row1 col0\" >6.400000</td>\n",
       "      <td id=\"T_62251_row1_col1\" class=\"data row1 col1\" >3.200000</td>\n",
       "      <td id=\"T_62251_row1_col2\" class=\"data row1 col2\" >5.300000</td>\n",
       "      <td id=\"T_62251_row1_col3\" class=\"data row1 col3\" >2.300000</td>\n",
       "      <td id=\"T_62251_row1_col4\" class=\"data row1 col4\" >Iris-virginica</td>\n",
       "    </tr>\n",
       "    <tr>\n",
       "      <th id=\"T_62251_level0_row2\" class=\"row_heading level0 row2\" >36</th>\n",
       "      <td id=\"T_62251_row2_col0\" class=\"data row2 col0\" >5.500000</td>\n",
       "      <td id=\"T_62251_row2_col1\" class=\"data row2 col1\" >3.500000</td>\n",
       "      <td id=\"T_62251_row2_col2\" class=\"data row2 col2\" >1.300000</td>\n",
       "      <td id=\"T_62251_row2_col3\" class=\"data row2 col3\" >0.200000</td>\n",
       "      <td id=\"T_62251_row2_col4\" class=\"data row2 col4\" >Iris-setosa</td>\n",
       "    </tr>\n",
       "    <tr>\n",
       "      <th id=\"T_62251_level0_row3\" class=\"row_heading level0 row3\" >122</th>\n",
       "      <td id=\"T_62251_row3_col0\" class=\"data row3 col0\" >7.700000</td>\n",
       "      <td id=\"T_62251_row3_col1\" class=\"data row3 col1\" >2.800000</td>\n",
       "      <td id=\"T_62251_row3_col2\" class=\"data row3 col2\" >6.700000</td>\n",
       "      <td id=\"T_62251_row3_col3\" class=\"data row3 col3\" >2.000000</td>\n",
       "      <td id=\"T_62251_row3_col4\" class=\"data row3 col4\" >Iris-virginica</td>\n",
       "    </tr>\n",
       "    <tr>\n",
       "      <th id=\"T_62251_level0_row4\" class=\"row_heading level0 row4\" >21</th>\n",
       "      <td id=\"T_62251_row4_col0\" class=\"data row4 col0\" >5.100000</td>\n",
       "      <td id=\"T_62251_row4_col1\" class=\"data row4 col1\" >3.700000</td>\n",
       "      <td id=\"T_62251_row4_col2\" class=\"data row4 col2\" >1.500000</td>\n",
       "      <td id=\"T_62251_row4_col3\" class=\"data row4 col3\" >0.400000</td>\n",
       "      <td id=\"T_62251_row4_col4\" class=\"data row4 col4\" >Iris-setosa</td>\n",
       "    </tr>\n",
       "    <tr>\n",
       "      <th id=\"T_62251_level0_row5\" class=\"row_heading level0 row5\" >7</th>\n",
       "      <td id=\"T_62251_row5_col0\" class=\"data row5 col0\" >5.000000</td>\n",
       "      <td id=\"T_62251_row5_col1\" class=\"data row5 col1\" >3.400000</td>\n",
       "      <td id=\"T_62251_row5_col2\" class=\"data row5 col2\" >1.500000</td>\n",
       "      <td id=\"T_62251_row5_col3\" class=\"data row5 col3\" >0.200000</td>\n",
       "      <td id=\"T_62251_row5_col4\" class=\"data row5 col4\" >Iris-setosa</td>\n",
       "    </tr>\n",
       "    <tr>\n",
       "      <th id=\"T_62251_level0_row6\" class=\"row_heading level0 row6\" >89</th>\n",
       "      <td id=\"T_62251_row6_col0\" class=\"data row6 col0\" >5.500000</td>\n",
       "      <td id=\"T_62251_row6_col1\" class=\"data row6 col1\" >2.500000</td>\n",
       "      <td id=\"T_62251_row6_col2\" class=\"data row6 col2\" >4.000000</td>\n",
       "      <td id=\"T_62251_row6_col3\" class=\"data row6 col3\" >1.300000</td>\n",
       "      <td id=\"T_62251_row6_col4\" class=\"data row6 col4\" >Iris-versicolor</td>\n",
       "    </tr>\n",
       "    <tr>\n",
       "      <th id=\"T_62251_level0_row7\" class=\"row_heading level0 row7\" >48</th>\n",
       "      <td id=\"T_62251_row7_col0\" class=\"data row7 col0\" >5.300000</td>\n",
       "      <td id=\"T_62251_row7_col1\" class=\"data row7 col1\" >3.700000</td>\n",
       "      <td id=\"T_62251_row7_col2\" class=\"data row7 col2\" >1.500000</td>\n",
       "      <td id=\"T_62251_row7_col3\" class=\"data row7 col3\" >0.200000</td>\n",
       "      <td id=\"T_62251_row7_col4\" class=\"data row7 col4\" >Iris-setosa</td>\n",
       "    </tr>\n",
       "    <tr>\n",
       "      <th id=\"T_62251_level0_row8\" class=\"row_heading level0 row8\" >51</th>\n",
       "      <td id=\"T_62251_row8_col0\" class=\"data row8 col0\" >6.400000</td>\n",
       "      <td id=\"T_62251_row8_col1\" class=\"data row8 col1\" >3.200000</td>\n",
       "      <td id=\"T_62251_row8_col2\" class=\"data row8 col2\" >4.500000</td>\n",
       "      <td id=\"T_62251_row8_col3\" class=\"data row8 col3\" >1.500000</td>\n",
       "      <td id=\"T_62251_row8_col4\" class=\"data row8 col4\" >Iris-versicolor</td>\n",
       "    </tr>\n",
       "    <tr>\n",
       "      <th id=\"T_62251_level0_row9\" class=\"row_heading level0 row9\" >127</th>\n",
       "      <td id=\"T_62251_row9_col0\" class=\"data row9 col0\" >6.100000</td>\n",
       "      <td id=\"T_62251_row9_col1\" class=\"data row9 col1\" >3.000000</td>\n",
       "      <td id=\"T_62251_row9_col2\" class=\"data row9 col2\" >4.900000</td>\n",
       "      <td id=\"T_62251_row9_col3\" class=\"data row9 col3\" >1.800000</td>\n",
       "      <td id=\"T_62251_row9_col4\" class=\"data row9 col4\" >Iris-virginica</td>\n",
       "    </tr>\n",
       "  </tbody>\n",
       "</table>\n"
      ],
      "text/plain": [
       "<pandas.io.formats.style.Styler at 0x16e75718290>"
      ]
     },
     "execution_count": 2,
     "metadata": {},
     "output_type": "execute_result"
    }
   ],
   "source": [
    "df_sample = df.sample(n=10, random_state = 152)\n",
    "# df_sample_highlight = pd.concat([df_sample.iloc[:5,:], df_sample.iloc[-5:,:]]).style.format().set_properties(subset=['type'], **{'background-color': 'yellow'})\n",
    "\n",
    "# function definition\n",
    "def highlight_cols(s):\n",
    "    color = 'null'\n",
    "    if s == 'Iris-virginica': color = 'limegreen'\n",
    "    elif s == 'Iris-setosa': color = 'lightblue'\n",
    "    elif s == 'Iris-versicolor': color = 'orange'\n",
    "    # color = 'red' if s == 'Iris-virginica' or 'blue' if s == 'Iris-setosa'\n",
    "    return 'background-color: % s' % color\n",
    "  \n",
    "# highlighting the cells\n",
    "df_sample.style.applymap(highlight_cols)\n"
   ]
  },
  {
   "attachments": {},
   "cell_type": "markdown",
   "metadata": {},
   "source": [
    "We have three mutually exclusive flower types, equally distributed, in this feature:"
   ]
  },
  {
   "cell_type": "code",
   "execution_count": 3,
   "metadata": {
    "tags": [
     "remove-output"
    ]
   },
   "outputs": [
    {
     "data": {
      "image/png": "[encoded data removed]",
      "text/plain": [
       "<Figure size 640x480 with 1 Axes>"
      ]
     },
     "metadata": {},
     "output_type": "display_data"
    }
   ],
   "source": [
    "df.groupby('type').size().plot(kind='pie',colors = ['lightblue', 'orange', 'limegreen']);\n"
   ]
  },
  {
   "cell_type": "code",
   "execution_count": 4,
   "metadata": {
    "tags": [
     "remove-input"
    ]
   },
   "outputs": [
    {
     "data": {
      "text/html": [
       "<img src=\"output_plot4.png\" alt=\"A piechart is shown. The graph is split into three equal groups     + Orange = Iris-versicolot, green = Iris-virginica, and blue = Iris-setosa.\">"
      ],
      "text/plain": [
       "<IPython.core.display.HTML object>"
      ]
     },
     "metadata": {},
     "output_type": "display_data"
    }
   ],
   "source": [
    "import matplotlib.pyplot as plt \n",
    "from IPython.display import display, HTML\n",
    "import os\n",
    "\n",
    "def plot_with_alt_text(alt_text =''):\n",
    "     i = 0 #filename counter\n",
    "     outputName = 'output_plot'+str(i)+'.png'\n",
    "     match = True\n",
    "     while(match == True):\n",
    "          if os.path.isfile(outputName):\n",
    "               i = i+1\n",
    "               outputName = 'output_plot'+str(i)+'.png'\n",
    "          else: match = False\n",
    "     plt.savefig(outputName)\n",
    "     plt.savefig('../../_build/html/task2_c/example_sup_class/'+outputName)\n",
    "     display(HTML(f'<img src=\"{outputName}\" alt=\"{alt_text}\">'), clear = True)\n",
    "     plt.close()\n",
    "\n",
    "df.groupby('type').size().plot(kind='pie',colors = ['lightblue', 'orange', 'limegreen']);\n",
    "plot_with_alt_text('A piechart is shown. The graph is split into three equal groups \\\n",
    "    + Orange = Iris-versicolot, green = Iris-virginica, and blue = Iris-setosa.')"
   ]
  },
  {
   "attachments": {},
   "cell_type": "markdown",
   "metadata": {},
   "source": [
    "Recall, a coding [error was returned](sup_reg_ex: develop: train) after inputting this data directly into `linear_reg_model.fit`. This occurred because the algorithm did not how to process categorical independent variables. This isn't a problem when using dependent categorical variables for classification models as in our [classification example](sup_class_ex:develop). Those algorithms are written to expect dependent categorical variables -as they always classify categories. \n",
    "\n",
    "But algorithms like numbers and there are many instances when ML models can only interpret numerical data. Furthermore, how categories should be represented requires an understanding of the data. Something the algorithm doesn't have. Thus *feature encoding*, processing data into numerical form, is an essential data analytical skill. To do this properly you should understand your data before preceding. \n",
    "\n",
    "For example, we could simply re-label the types as follows:\n",
    "\n",
    "$$ \n",
    "  \\text{Iris-setosa} \\rightarrow 1 \\\\\n",
    "  \\text{Iris-versicolor} \\rightarrow 2 \\\\\n",
    "  \\text{Iris-virginica} \\rightarrow 3 \\\\\n",
    "$$\n",
    "\n",
    "   \n",
    "and hand this off to the algorithm. While this would fix the coding error, any mathematical interpretation of this re-labeling would be meaningless, e.g., `Iris-setosa` is not twice as much as `Iris-versicolor`, nor does `setosa` + `versicolor` = `virginica` -the type is just a name. We call this type of categorical data *nominal.* Categories with an inherent order, e.g., grades, pay grades, bronze-silver-gold, etc., are called *ordinal.* But that doesn't apply here either. A flower either is an `Iris-setosa` OR it isn't. Each type is similarly binary so we can interpret *each unique type as a unique feature*, with a 1 or 0, indicating whether the category applies or not.\n",
    "\n",
    "Most machine learning libraries are equipped with built-in preprocessing functions; see the available options in the docs: [sklearn.preprocessing](https://scikit-learn.org/stable/modules/classes.html#module-sklearn.preprocessing). For simplicity, we'll start with Pandas' built-in [get_dummies](https://pandas.pydata.org/docs/reference/api/pandas.get_dummies.html). However, it will often be best to use functions specifically written for your model's library, such as sklearn's [OneHotEncoder](https://scikit-learn.org/stable/modules/generated/sklearn.preprocessing.OneHotEncoder.html#sklearn.preprocessing.OneHotEncoder). "
   ]
  },
  {
   "cell_type": "code",
   "execution_count": 5,
   "metadata": {},
   "outputs": [],
   "source": [
    "after_pd_dummy = pd.get_dummies(df_sample)"
   ]
  },
  {
   "cell_type": "code",
   "execution_count": 6,
   "metadata": {
    "tags": [
     "hide-input"
    ]
   },
   "outputs": [
    {
     "data": {
      "text/html": [
       "<style type=\"text/css\">\n",
       "#T_c4175_row0_col0, #T_c4175_row2_col0, #T_c4175_row4_col0, #T_c4175_row5_col0, #T_c4175_row7_col0 {\n",
       "  background-color: lightblue;\n",
       "}\n",
       "#T_c4175_row1_col0, #T_c4175_row3_col0, #T_c4175_row9_col0 {\n",
       "  background-color: limegreen;\n",
       "}\n",
       "#T_c4175_row6_col0, #T_c4175_row8_col0 {\n",
       "  background-color: orange;\n",
       "}\n",
       "</style>\n",
       "<table id=\"T_c4175\" style='display:inline'>\n",
       "  <caption>Before</caption>\n",
       "  <thead>\n",
       "    <tr>\n",
       "      <th class=\"blank level0\" >&nbsp;</th>\n",
       "      <th id=\"T_c4175_level0_col0\" class=\"col_heading level0 col0\" >type</th>\n",
       "    </tr>\n",
       "  </thead>\n",
       "  <tbody>\n",
       "    <tr>\n",
       "      <th id=\"T_c4175_level0_row0\" class=\"row_heading level0 row0\" >38</th>\n",
       "      <td id=\"T_c4175_row0_col0\" class=\"data row0 col0\" >Iris-setosa</td>\n",
       "    </tr>\n",
       "    <tr>\n",
       "      <th id=\"T_c4175_level0_row1\" class=\"row_heading level0 row1\" >115</th>\n",
       "      <td id=\"T_c4175_row1_col0\" class=\"data row1 col0\" >Iris-virginica</td>\n",
       "    </tr>\n",
       "    <tr>\n",
       "      <th id=\"T_c4175_level0_row2\" class=\"row_heading level0 row2\" >36</th>\n",
       "      <td id=\"T_c4175_row2_col0\" class=\"data row2 col0\" >Iris-setosa</td>\n",
       "    </tr>\n",
       "    <tr>\n",
       "      <th id=\"T_c4175_level0_row3\" class=\"row_heading level0 row3\" >122</th>\n",
       "      <td id=\"T_c4175_row3_col0\" class=\"data row3 col0\" >Iris-virginica</td>\n",
       "    </tr>\n",
       "    <tr>\n",
       "      <th id=\"T_c4175_level0_row4\" class=\"row_heading level0 row4\" >21</th>\n",
       "      <td id=\"T_c4175_row4_col0\" class=\"data row4 col0\" >Iris-setosa</td>\n",
       "    </tr>\n",
       "    <tr>\n",
       "      <th id=\"T_c4175_level0_row5\" class=\"row_heading level0 row5\" >7</th>\n",
       "      <td id=\"T_c4175_row5_col0\" class=\"data row5 col0\" >Iris-setosa</td>\n",
       "    </tr>\n",
       "    <tr>\n",
       "      <th id=\"T_c4175_level0_row6\" class=\"row_heading level0 row6\" >89</th>\n",
       "      <td id=\"T_c4175_row6_col0\" class=\"data row6 col0\" >Iris-versicolor</td>\n",
       "    </tr>\n",
       "    <tr>\n",
       "      <th id=\"T_c4175_level0_row7\" class=\"row_heading level0 row7\" >48</th>\n",
       "      <td id=\"T_c4175_row7_col0\" class=\"data row7 col0\" >Iris-setosa</td>\n",
       "    </tr>\n",
       "    <tr>\n",
       "      <th id=\"T_c4175_level0_row8\" class=\"row_heading level0 row8\" >51</th>\n",
       "      <td id=\"T_c4175_row8_col0\" class=\"data row8 col0\" >Iris-versicolor</td>\n",
       "    </tr>\n",
       "    <tr>\n",
       "      <th id=\"T_c4175_level0_row9\" class=\"row_heading level0 row9\" >127</th>\n",
       "      <td id=\"T_c4175_row9_col0\" class=\"data row9 col0\" >Iris-virginica</td>\n",
       "    </tr>\n",
       "  </tbody>\n",
       "</table>\n",
       "          <style type=\"text/css\">\n",
       "#T_2a254_row0_col0, #T_2a254_row2_col0, #T_2a254_row4_col0, #T_2a254_row5_col0, #T_2a254_row7_col0 {\n",
       "  background-color: lightblue;\n",
       "}\n",
       "#T_2a254_row1_col2, #T_2a254_row3_col2, #T_2a254_row9_col2 {\n",
       "  background-color: lightgreen;\n",
       "}\n",
       "#T_2a254_row6_col1, #T_2a254_row8_col1 {\n",
       "  background-color: orange;\n",
       "}\n",
       "</style>\n",
       "<table id=\"T_2a254\" style='display:inline'>\n",
       "  <caption>After <em>get_dummy</em></caption>\n",
       "  <thead>\n",
       "    <tr>\n",
       "      <th class=\"blank level0\" >&nbsp;</th>\n",
       "      <th id=\"T_2a254_level0_col0\" class=\"col_heading level0 col0\" >type_Iris-setosa</th>\n",
       "      <th id=\"T_2a254_level0_col1\" class=\"col_heading level0 col1\" >type_Iris-versicolor</th>\n",
       "      <th id=\"T_2a254_level0_col2\" class=\"col_heading level0 col2\" >type_Iris-virginica</th>\n",
       "    </tr>\n",
       "  </thead>\n",
       "  <tbody>\n",
       "    <tr>\n",
       "      <th id=\"T_2a254_level0_row0\" class=\"row_heading level0 row0\" >38</th>\n",
       "      <td id=\"T_2a254_row0_col0\" class=\"data row0 col0\" >1</td>\n",
       "      <td id=\"T_2a254_row0_col1\" class=\"data row0 col1\" >0</td>\n",
       "      <td id=\"T_2a254_row0_col2\" class=\"data row0 col2\" >0</td>\n",
       "    </tr>\n",
       "    <tr>\n",
       "      <th id=\"T_2a254_level0_row1\" class=\"row_heading level0 row1\" >115</th>\n",
       "      <td id=\"T_2a254_row1_col0\" class=\"data row1 col0\" >0</td>\n",
       "      <td id=\"T_2a254_row1_col1\" class=\"data row1 col1\" >0</td>\n",
       "      <td id=\"T_2a254_row1_col2\" class=\"data row1 col2\" >1</td>\n",
       "    </tr>\n",
       "    <tr>\n",
       "      <th id=\"T_2a254_level0_row2\" class=\"row_heading level0 row2\" >36</th>\n",
       "      <td id=\"T_2a254_row2_col0\" class=\"data row2 col0\" >1</td>\n",
       "      <td id=\"T_2a254_row2_col1\" class=\"data row2 col1\" >0</td>\n",
       "      <td id=\"T_2a254_row2_col2\" class=\"data row2 col2\" >0</td>\n",
       "    </tr>\n",
       "    <tr>\n",
       "      <th id=\"T_2a254_level0_row3\" class=\"row_heading level0 row3\" >122</th>\n",
       "      <td id=\"T_2a254_row3_col0\" class=\"data row3 col0\" >0</td>\n",
       "      <td id=\"T_2a254_row3_col1\" class=\"data row3 col1\" >0</td>\n",
       "      <td id=\"T_2a254_row3_col2\" class=\"data row3 col2\" >1</td>\n",
       "    </tr>\n",
       "    <tr>\n",
       "      <th id=\"T_2a254_level0_row4\" class=\"row_heading level0 row4\" >21</th>\n",
       "      <td id=\"T_2a254_row4_col0\" class=\"data row4 col0\" >1</td>\n",
       "      <td id=\"T_2a254_row4_col1\" class=\"data row4 col1\" >0</td>\n",
       "      <td id=\"T_2a254_row4_col2\" class=\"data row4 col2\" >0</td>\n",
       "    </tr>\n",
       "    <tr>\n",
       "      <th id=\"T_2a254_level0_row5\" class=\"row_heading level0 row5\" >7</th>\n",
       "      <td id=\"T_2a254_row5_col0\" class=\"data row5 col0\" >1</td>\n",
       "      <td id=\"T_2a254_row5_col1\" class=\"data row5 col1\" >0</td>\n",
       "      <td id=\"T_2a254_row5_col2\" class=\"data row5 col2\" >0</td>\n",
       "    </tr>\n",
       "    <tr>\n",
       "      <th id=\"T_2a254_level0_row6\" class=\"row_heading level0 row6\" >89</th>\n",
       "      <td id=\"T_2a254_row6_col0\" class=\"data row6 col0\" >0</td>\n",
       "      <td id=\"T_2a254_row6_col1\" class=\"data row6 col1\" >1</td>\n",
       "      <td id=\"T_2a254_row6_col2\" class=\"data row6 col2\" >0</td>\n",
       "    </tr>\n",
       "    <tr>\n",
       "      <th id=\"T_2a254_level0_row7\" class=\"row_heading level0 row7\" >48</th>\n",
       "      <td id=\"T_2a254_row7_col0\" class=\"data row7 col0\" >1</td>\n",
       "      <td id=\"T_2a254_row7_col1\" class=\"data row7 col1\" >0</td>\n",
       "      <td id=\"T_2a254_row7_col2\" class=\"data row7 col2\" >0</td>\n",
       "    </tr>\n",
       "    <tr>\n",
       "      <th id=\"T_2a254_level0_row8\" class=\"row_heading level0 row8\" >51</th>\n",
       "      <td id=\"T_2a254_row8_col0\" class=\"data row8 col0\" >0</td>\n",
       "      <td id=\"T_2a254_row8_col1\" class=\"data row8 col1\" >1</td>\n",
       "      <td id=\"T_2a254_row8_col2\" class=\"data row8 col2\" >0</td>\n",
       "    </tr>\n",
       "    <tr>\n",
       "      <th id=\"T_2a254_level0_row9\" class=\"row_heading level0 row9\" >127</th>\n",
       "      <td id=\"T_2a254_row9_col0\" class=\"data row9 col0\" >0</td>\n",
       "      <td id=\"T_2a254_row9_col1\" class=\"data row9 col1\" >0</td>\n",
       "      <td id=\"T_2a254_row9_col2\" class=\"data row9 col2\" >1</td>\n",
       "    </tr>\n",
       "  </tbody>\n",
       "</table>\n"
      ]
     },
     "metadata": {},
     "output_type": "display_data"
    }
   ],
   "source": [
    "#highlight values according to column names and values. \n",
    "def highlight_cols_dummy(col):\n",
    "    if col.name == 'type_Iris-setosa':\n",
    "        return ['background-color: lightblue' if c == 1 else '' for c in col.values]\n",
    "    elif col.name == 'type_Iris-versicolor':\n",
    "        return ['background-color: orange' if c == 1 else '' for c in col.values]\n",
    "    elif col.name == 'type_Iris-virginica':\n",
    "        return ['background-color: lightgreen' if c == 1 else '' for c in col.values]\n",
    "    else:\n",
    "        return ['background-color: null' for c in col.values]\n",
    "\n",
    "# #Nice displays are nice but not required. \n",
    "from IPython.display import display_html, HTML\n",
    "before_styler = df_sample[['type']].style.set_table_attributes(\"style='display:inline'\").set_caption('Before').applymap(highlight_cols).format(precision = 1)\n",
    "after_styler = after_pd_dummy[['type_Iris-setosa','type_Iris-versicolor','type_Iris-virginica']].style.set_table_attributes(\"style='display:inline'\").set_caption('After <em>get_dummy</em>').apply(highlight_cols_dummy).format(precision = 1)\n",
    "space = \"\\xa0\" * 10 #space between columns\n",
    "# arrow = \"<html> <big><big><big><big><big>&#8680;</big></big></big></big></big> </html>\"\n",
    "# arrow = <big><big><big><big><big>&#8680;</big></big></big></big></big>\n",
    "\n",
    "arrow = '<table style=\"width:5%\"> \\\n",
    "    <tr> \\\n",
    "        <th> <br> <br> <big><big><big><big><big>&#8680;</big></big></big></big></big> <br> <br> </th> \\\n",
    "    </tr>'\n",
    "\n",
    "# df_sample[['type']]\n",
    "# displays dataframes side by side\n",
    "display_html(before_styler._repr_html_() + space + after_styler._repr_html_(), raw=True)"
   ]
  },
  {
   "cell_type": "markdown",
   "metadata": {},
   "source": [
    "This process is called [vectorization](https://neptune.ai/blog/vectorization-techniques-in-nlp-guide#:~:text=In%20Machine%20Learning%2C%20vectorization%20is%20a%20step%20in,train%20on%2C%20by%20converting%20text%20to%20numerical%20vectors). Now we can include `type` in the training and testing of a model:  "
   ]
  },
  {
   "cell_type": "code",
   "execution_count": 7,
   "metadata": {},
   "outputs": [
    {
     "name": "stdout",
     "output_type": "stream",
     "text": [
      "MSE using types is :0.12921261168601364\n"
     ]
    }
   ],
   "source": [
    "from sklearn.model_selection import train_test_split\n",
    "from sklearn.linear_model import LinearRegression \n",
    "from sklearn.metrics import mean_squared_error\n",
    "\n",
    "X = pd.get_dummies(X)\n",
    "X_train, X_test, y_train, y_test = train_test_split(X, y, test_size=0.333, random_state=41)\n",
    "linear_reg_model_types = LinearRegression()\n",
    "linear_reg_model_types.fit(X_train,y_train)\n",
    "y_pred = linear_reg_model_types.predict(X_test)\n",
    "\n",
    "sme = mean_squared_error(y_test, y_pred)\n",
    "print('MSE using types is :' + str(sme))"
   ]
  },
  {
   "attachments": {},
   "cell_type": "markdown",
   "metadata": {},
   "source": [
    "When including the flower types, our linear model has a mean squared error of $\\approx 0.129$. Recall from the previous section without the flower types, we had a MSE of abot $0.123$.\n",
    "\n",
    "So did it get worse? No. Our data changed and you can't simply compare MSE's from different cases. Converting `types` to numerical features, added three dimensions to the previous example. Moving from three to a *six-*dimensional space. Consider the change from just two to three dimensions, e.g., $2^{2}=4$ to $2^{3}=8$. Adding dimensions can radically increase the volume of space making the available data relatively sparse -what's known as the [Curse of Dimensionality](https://en.wikipedia.org/wiki/Curse_of_dimensionality). -However, that's not the full story here. While, both `petal-length` and `petal-width` appear positively correlated with `sepal-length`for `versicolor` and `virginica` it does *not* for `setosa` (blue below), "
   ]
  },
  {
   "cell_type": "code",
   "execution_count": 8,
   "metadata": {
    "tags": [
     "remove-output"
    ]
   },
   "outputs": [
    {
     "data": {
      "image/png": "[encoded data removed]",
      "text/plain": [
       "<Figure size 643x250 with 2 Axes>"
      ]
     },
     "metadata": {},
     "output_type": "display_data"
    }
   ],
   "source": [
    "import seaborn as sns\n",
    "\n",
    "#correlogram\n",
    "sns.pairplot(df,x_vars = ['petal-length','petal-width'], y_vars=['sepal-length'], hue='type');"
   ]
  },
  {
   "cell_type": "code",
   "execution_count": 9,
   "metadata": {
    "tags": [
     "remove-input"
    ]
   },
   "outputs": [
    {
     "data": {
      "text/html": [
       "<img src=\"output_plot5.png\" alt=\"Two scatterplots are shown side by side. The y-axis for both is sepal-length.      The x-axis is petal-length and petal-length for the left and right plot, respectively.      Both plots similarly show positive linear correlations for the color-coded Iris-versicolor and Iris virginica data points.      The Iris-setosa data points are grouped in the lower-left quadrant of both plots with little linear correlation.\">"
      ],
      "text/plain": [
       "<IPython.core.display.HTML object>"
      ]
     },
     "metadata": {},
     "output_type": "display_data"
    }
   ],
   "source": [
    "import matplotlib.pyplot as plt \n",
    "from IPython.display import display, HTML\n",
    "import os\n",
    "\n",
    "#This code helps support alt text for student accessibility.\n",
    "#This section and uses of 'plot_with_alt' are intended only for publishing to the webpage.\n",
    "#Including alt text is good practice but not required for Task 2.    \n",
    "\n",
    "# A function to support adding alt text to Python-generated images.\n",
    "# Pandas, matplotlib, and others don't yet natively support alt ext. \n",
    "   \n",
    "def plot_with_alt_text(alt_text =''):\n",
    "     i = 0 #filename counter\n",
    "     outputName = 'output_plot'+str(i)+'.png'\n",
    "     match = True\n",
    "     while(match == True):\n",
    "          if os.path.isfile(outputName):\n",
    "               i = i+1\n",
    "               outputName = 'output_plot'+str(i)+'.png'\n",
    "          else: match = False\n",
    "     plt.savefig(outputName)\n",
    "     plt.savefig('../../_build/html/task2_c/example_sup_reg/'+outputName)\n",
    "     display(HTML(f'<img src=\"{outputName}\" alt=\"{alt_text}\">'))\n",
    "     plt.close()\n",
    "\n",
    "sns.pairplot(df,x_vars = ['petal-length','petal-width'], y_vars=['sepal-length'], hue='type');     \n",
    "plot_with_alt_text('Two scatterplots are shown side by side. The y-axis for both is sepal-length. \\\n",
    "     The x-axis is petal-length and petal-length for the left and right plot, respectively. \\\n",
    "     Both plots similarly show positive linear correlations for the color-coded Iris-versicolor and Iris virginica data points. \\\n",
    "     The Iris-setosa data points are grouped in the lower-left quadrant of both plots with little linear correlation.')\n"
   ]
  },
  {
   "attachments": {},
   "cell_type": "markdown",
   "metadata": {},
   "source": [
    "The drop in accuracy is in part a limitation of our simple linear model trying to make use of a feature pulling the model in the wrong direction. Making the most out of your data involves a mix of understanding the data and the applied algorithm(s) (which don't understand anything). Using three different linear models yields better results:"
   ]
  },
  {
   "cell_type": "code",
   "execution_count": 10,
   "metadata": {},
   "outputs": [
    {
     "name": "stdout",
     "output_type": "stream",
     "text": [
      "MSE of type_Iris-setosa is :0.06604867484155268\n",
      "MSE of type_Iris-versicolor is :0.09862408497975977\n",
      "MSE of type_Iris-virginica is :0.0802189108860733\n"
     ]
    }
   ],
   "source": [
    "from sklearn.model_selection import train_test_split\n",
    "from sklearn.linear_model import LinearRegression \n",
    "from sklearn.metrics import mean_squared_error\n",
    "\n",
    "\n",
    "df_dummy = pd.get_dummies(df)\n",
    "df_dummy\n",
    "df_s = df_dummy.loc[df_dummy['type_Iris-setosa'] == 1].drop(columns=['type_Iris-versicolor', 'type_Iris-virginica'])\n",
    "df_v = df_dummy.loc[df_dummy['type_Iris-versicolor'] == 1].drop(columns=['type_Iris-setosa', 'type_Iris-virginica'])\n",
    "df_g = df_dummy.loc[df_dummy['type_Iris-virginica'] == 1].drop(columns=['type_Iris-setosa', 'type_Iris-versicolor'])\n",
    "\n",
    "def line_regression_pipe(df_list):\n",
    "    for df in df_list:\n",
    "        X = df.drop(columns=['sepal-length']) #indpendent variables\n",
    "        y = df[['sepal-length']].copy() #dependent variables\n",
    "        #split the variable sets into training and testing subsets\n",
    "        X_train, X_test, y_train, y_test = train_test_split(X, y, test_size=0.333, random_state=41)\n",
    "        linear_reg_model_a = LinearRegression()\n",
    "        linear_reg_model_a.fit(X_train,y_train)\n",
    "        y_pred = linear_reg_model_a.predict(X_test)\n",
    "        sme = mean_squared_error(y_test, y_pred)\n",
    "        print('MSE of ' + df.columns[4] + ' is :' + str(sme) )\n",
    "\n",
    "df_list = [df_s, df_v, df_g]\n",
    "line_regression_pipe(df_list)\n"
   ]
  },
  {
   "cell_type": "markdown",
   "metadata": {},
   "source": [
    "The goal of this section was to illustrate how to incorporate independent categorical variables. Though it starts with converting strings to numbers, how those conversations are done is important to consider. Moreover, the introduction of more features can impact both the computational efficiency and accuracy of the model."
   ]
  }
 ],
 "metadata": {
  "kernelspec": {
   "display_name": "jupyter-books-WZpnkDri",
   "language": "python",
   "name": "jupyter-books-wzpnkdri"
  },
  "language_info": {
   "codemirror_mode": {
    "name": "ipython",
    "version": 3
   },
   "file_extension": ".py",
   "mimetype": "text/x-python",
   "name": "python",
   "nbconvert_exporter": "python",
   "pygments_lexer": "ipython3",
   "version": "3.11.1"
  }
 },
 "nbformat": 4,
 "nbformat_minor": 2
}